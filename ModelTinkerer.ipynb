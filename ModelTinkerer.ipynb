{
 "cells": [
  {
   "cell_type": "markdown",
   "metadata": {},
   "source": [
    "<p style=\"font-weight:600; font-size:36px\">Model Tinkerer</p>\n",
    "\n",
    "<p style=\"font-weight:400; font-size:24px\">J.A. Koch -- 18 Dec 2019</p>\n",
    "\n",
    "\n",
    "\n",
    "This notebook allows you to tinker with parameters to understand the role they play in a model"
   ]
  },
  {
   "cell_type": "code",
   "execution_count": 5,
   "metadata": {},
   "outputs": [],
   "source": [
    "from ipywidgets import interact, interactive, fixed, interact_manual\n",
    "import ipywidgets as widgets\n",
    "from IPython.display import display\n",
    "import matplotlib.pyplot as plt\n",
    "import numpy as np\n",
    "%matplotlib inline"
   ]
  },
  {
   "cell_type": "code",
   "execution_count": 2,
   "metadata": {},
   "outputs": [],
   "source": [
    "# define the model\n",
    "def model(x,G,tau):\n",
    "    Gp=G*(x*tau)**2/(1+(x*tau)**2)\n",
    "    Gpp=G*(x*tau)/(1+(x*tau)**2)\n",
    "    return Gp,Gpp\n",
    "\n",
    "# upload any data or comment out\n",
    "x_data   = np.array([100,\t63.1,\t39.8,\t25.1,\t15.8,\t10,\t6.31,\t3.98,\t2.51,\t1.58,\t1,\t0.631,\t0.398,\t0.251,\t0.158,\t0.1,\t0.0631,\t0.0398,\t0.0251,\t0.0158,\t0.01,\t0.00631,\t0.00398,\t0.00251,\t0.00158,\t0.001,\t0.000628])\n",
    "y1_data  = np.array([100000,\t87900,\t75600,\t63600,\t52100,\t41300,\t31700,\t23500,\t16700,\t11400,\t7500,\t4750,\t2890,\t1690,\t973,\t559,\t309,\t178,\t93.7,\t51.6,\t27.7,\t14,\t6.72,\t3.39,\t1.56,\t0.611,\t0.265])\n",
    "y2_data = np.array([39500,\t39500,\t39000,\t37600,\t35500,\t32600,\t29100,\t25100,\t20900,\t16800,\t13100,\t9890,\t7210,\t5100,\t3520,\t2380,\t1600,\t1060,\t697,\t455,\t295,\t190,\t121,\t76.9,\t48.8,\t31.2,\t19.5])\n",
    "# (x,G',G'')"
   ]
  },
  {
   "cell_type": "markdown",
   "metadata": {},
   "source": [
    "We will use jupyter widgets to adjust the variables. Widgets can come in a few forms, and I will describe the inputs here. First, a basic example: `G=widgets.FloatSlider(min=0, max=10, value=1, description='modulus, G [Pa]')`\n",
    "    \n",
    "`G` is the name of the variable in the `def update_plot` block. Its values aren't limited to the integers, so we make it a `FloatSlider`. Set the minimum, maximum, and initial value, add a label for the slider if you want.\n",
    "\n",
    "Other sliders [here](https://ipywidgets.readthedocs.io/en/latest/examples/Widget%20List.html)\n",
    "\n",
    "`widgets.FloatSlider(\n",
    "    value=7.5,\n",
    "    min=0,\n",
    "    max=10.0,\n",
    "    step=0.1,\n",
    "    description='Test:',\n",
    "    disabled=False,\n",
    "    continuous_update=False,\n",
    "    orientation='horizontal',\n",
    "    readout=True,\n",
    "    readout_format='.1f',\n",
    ")`\n",
    "\n",
    "`widgets.IntSlider(\n",
    "    value=7,\n",
    "    min=0,\n",
    "    max=10,\n",
    "    step=1,\n",
    "    description='Test:',\n",
    "    disabled=False,\n",
    "    continuous_update=False,\n",
    "    orientation='horizontal',\n",
    "    readout=True,\n",
    "    readout_format='d'\n",
    ")`\n",
    "\n",
    "`widgets.FloatLogSlider(\n",
    "    value=10,\n",
    "    base=10,\n",
    "    min=-10, # max exponent of base\n",
    "    max=10, # min exponent of base\n",
    "    step=0.2, # exponent step\n",
    "    description='Log Slider'\n",
    ")`"
   ]
  },
  {
   "cell_type": "code",
   "execution_count": 6,
   "metadata": {},
   "outputs": [
    {
     "data": {
      "application/vnd.jupyter.widget-view+json": {
       "model_id": "37a58db879fc4cada2fd02c5d35df63f",
       "version_major": 2,
       "version_minor": 0
      },
      "text/plain": [
       "interactive(children=(FloatLogSlider(value=10.0, description='modulus, G', max=6.0, min=1.0, step=0.2), FloatL…"
      ]
     },
     "metadata": {},
     "output_type": "display_data"
    }
   ],
   "source": [
    "def update_plot(G,tau):\n",
    "    plt.clf()\n",
    "    plt.xlim([10**-2,10**2])\n",
    "    plt.ylim([0.1,10**6])\n",
    "    \n",
    "    Gp,Gpp = model(x_data,G,tau)\n",
    "    \n",
    "    plt.loglog(x_data, Gp,'r-')\n",
    "    plt.loglog(x_data, Gpp,'b-')\n",
    "    \n",
    "    plt.loglog(x_data,y1_data,'r.') # comment out if you don't have any data\n",
    "    plt.loglog(x_data,y2_data,'b.') # comment out if you don't have any data\n",
    "    plt.show()\n",
    "\n",
    "G=widgets.FloatLogSlider(value=1, base=10,min=1,max=6,step=0.2, description='modulus, G')\n",
    "tau = widgets.FloatLogSlider(value=1, base=10,min=-2,max=2,step=0.2, description='tau')\n",
    "widgets.interactive(update_plot, G=G,tau=tau)"
   ]
  }
 ],
 "metadata": {
  "anaconda-cloud": {},
  "hide_input": false,
  "kernelspec": {
   "display_name": "Python [conda env:Anaconda3]",
   "language": "python",
   "name": "conda-env-Anaconda3-py"
  },
  "language_info": {
   "codemirror_mode": {
    "name": "ipython",
    "version": 3
   },
   "file_extension": ".py",
   "mimetype": "text/x-python",
   "name": "python",
   "nbconvert_exporter": "python",
   "pygments_lexer": "ipython3",
   "version": "3.5.6"
  },
  "latex_envs": {
   "LaTeX_envs_menu_present": true,
   "autoclose": false,
   "autocomplete": true,
   "bibliofile": "biblio.bib",
   "cite_by": "apalike",
   "current_citInitial": 1,
   "eqLabelWithNumbers": true,
   "eqNumInitial": 1,
   "hotkeys": {
    "equation": "Ctrl-E",
    "itemize": "Ctrl-I"
   },
   "labels_anchors": false,
   "latex_user_defs": false,
   "report_style_numbering": false,
   "user_envs_cfg": false
  },
  "toc": {
   "base_numbering": 1,
   "nav_menu": {},
   "number_sections": true,
   "sideBar": true,
   "skip_h1_title": false,
   "title_cell": "Table of Contents",
   "title_sidebar": "Contents",
   "toc_cell": false,
   "toc_position": {},
   "toc_section_display": true,
   "toc_window_display": false
  },
  "varInspector": {
   "cols": {
    "lenName": 16,
    "lenType": 16,
    "lenVar": 40
   },
   "kernels_config": {
    "python": {
     "delete_cmd_postfix": "",
     "delete_cmd_prefix": "del ",
     "library": "var_list.py",
     "varRefreshCmd": "print(var_dic_list())"
    },
    "r": {
     "delete_cmd_postfix": ") ",
     "delete_cmd_prefix": "rm(",
     "library": "var_list.r",
     "varRefreshCmd": "cat(var_dic_list()) "
    }
   },
   "types_to_exclude": [
    "module",
    "function",
    "builtin_function_or_method",
    "instance",
    "_Feature"
   ],
   "window_display": false
  },
  "widgets": {
   "state": {
    "793fe42e674744b9bce72bd69a07d8f1": {
     "views": [
      {
       "cell_index": 2
      }
     ]
    }
   },
   "version": "1.2.0"
  }
 },
 "nbformat": 4,
 "nbformat_minor": 1
}
